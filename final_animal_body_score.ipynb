{
  "nbformat": 4,
  "nbformat_minor": 0,
  "metadata": {
    "colab": {
      "provenance": [],
      "gpuType": "T4",
      "authorship_tag": "ABX9TyPD8uQdRuRF39l+Duk4gFD5",
      "include_colab_link": true
    },
    "kernelspec": {
      "name": "python3",
      "display_name": "Python 3"
    },
    "language_info": {
      "name": "python"
    },
    "accelerator": "GPU"
  },
  "cells": [
    {
      "cell_type": "markdown",
      "metadata": {
        "id": "view-in-github",
        "colab_type": "text"
      },
      "source": [
        "<a href=\"https://colab.research.google.com/github/isaac-lusuku/GROUP25_REPO/blob/main/final_animal_body_score.ipynb\" target=\"_parent\"><img src=\"https://colab.research.google.com/assets/colab-badge.svg\" alt=\"Open In Colab\"/></a>"
      ]
    },
    {
      "cell_type": "markdown",
      "source": [
        "\n",
        "importing the necessaries libraries"
      ],
      "metadata": {
        "id": "bD0l9SPpsJ4k"
      }
    },
    {
      "cell_type": "code",
      "source": [
        "import os\n",
        "import pandas as pd\n",
        "from glob import glob\n",
        "import tensorflow as tf\n",
        "from tensorflow.keras import losses, optimizers, layers, Sequential, callbacks\n",
        "import matplotlib.pyplot as plt\n",
        "from tensorflow.keras import regularizers"
      ],
      "metadata": {
        "id": "GVdreXg2sL3i"
      },
      "execution_count": 2,
      "outputs": []
    },
    {
      "cell_type": "markdown",
      "source": [
        "Get image data"
      ],
      "metadata": {
        "id": "mqcHPH7gsOBK"
      }
    },
    {
      "cell_type": "code",
      "source": [
        "os.makedirs('body_score_dataset', exist_ok=True)\n",
        "os.system('git clone -b body_scores_prediction_dataset https://github.com/MVet-Platform/M-Vet_Hackathon24.git ./body_score_dataset')"
      ],
      "metadata": {
        "colab": {
          "base_uri": "https://localhost:8080/"
        },
        "id": "rvArFqrisSRC",
        "outputId": "1ca01341-053f-41ca-82d7-d3ba9d525bc3"
      },
      "execution_count": 3,
      "outputs": [
        {
          "output_type": "execute_result",
          "data": {
            "text/plain": [
              "0"
            ]
          },
          "metadata": {},
          "execution_count": 3
        }
      ]
    },
    {
      "cell_type": "markdown",
      "source": [
        "Load label data"
      ],
      "metadata": {
        "id": "XWI0xs0egfng"
      }
    },
    {
      "cell_type": "code",
      "source": [
        "df_train_data = pd.read_csv('body_score_dataset/train_data.csv')"
      ],
      "metadata": {
        "id": "mqPrv_TWgjvr"
      },
      "execution_count": 4,
      "outputs": []
    },
    {
      "cell_type": "markdown",
      "source": [
        "Get file path for image files"
      ],
      "metadata": {
        "id": "GH8-aP91hYVK"
      }
    },
    {
      "cell_type": "code",
      "source": [
        "df_train_data['filepath'] = df_train_data.apply(lambda row: glob(f'body_score_dataset/**/{row.filename}')[0], axis=1)"
      ],
      "metadata": {
        "id": "LFQF_KwZhaf4"
      },
      "execution_count": 5,
      "outputs": []
    },
    {
      "cell_type": "markdown",
      "source": [
        "Create array of body scores and file paths"
      ],
      "metadata": {
        "id": "fzQcEhF_hqNH"
      }
    },
    {
      "cell_type": "code",
      "source": [
        "body_scores = df_train_data.bodyScore.values\n",
        "file_paths = df_train_data.filepath.values"
      ],
      "metadata": {
        "id": "Y91uxmcVhrng"
      },
      "execution_count": 6,
      "outputs": []
    },
    {
      "cell_type": "markdown",
      "source": [
        "preprocessing function"
      ],
      "metadata": {
        "id": "POcuRPKGh1Y3"
      }
    },
    {
      "cell_type": "code",
      "source": [
        "def load_and_preprocess_image(file_path, body_score=None):\n",
        "    image = tf.io.read_file(file_path)\n",
        "    image = tf.image.decode_jpeg(image, channels=3)\n",
        "    image = tf.image.resize(image, [224, 224])\n",
        "    image = tf.cast(image, tf.float32) / 255.0\n",
        "    if body_score is not None:\n",
        "        return image, body_score\n",
        "    else:\n",
        "        return image"
      ],
      "metadata": {
        "id": "tdI-FuuIh5Lo"
      },
      "execution_count": 23,
      "outputs": []
    },
    {
      "cell_type": "markdown",
      "source": [
        "Create a TensorFlow dataset"
      ],
      "metadata": {
        "id": "msls9khnh9X9"
      }
    },
    {
      "cell_type": "code",
      "source": [
        "dataset = tf.data.Dataset.from_tensor_slices((file_paths, body_scores))\n",
        "dataset = dataset.map(load_and_preprocess_image, num_parallel_calls=tf.data.experimental.AUTOTUNE)"
      ],
      "metadata": {
        "id": "ZUlL9WQFiDF_"
      },
      "execution_count": 8,
      "outputs": []
    },
    {
      "cell_type": "markdown",
      "source": [
        "sample image display"
      ],
      "metadata": {
        "id": "kdDa4qFWiIDu"
      }
    },
    {
      "cell_type": "code",
      "source": [
        "for item in dataset.take(1):\n",
        "    plt.title(f'Body Score: {item[1].numpy()}')\n",
        "    plt.imshow(item[0].numpy())\n",
        "    plt.axis('off')\n",
        "    plt.show()\n"
      ],
      "metadata": {
        "id": "9MQZeAejiLpI"
      },
      "execution_count": null,
      "outputs": []
    },
    {
      "cell_type": "markdown",
      "source": [
        "Shuffle and split the dataset"
      ],
      "metadata": {
        "id": "ZqHEcKU1hulW"
      }
    },
    {
      "cell_type": "code",
      "source": [
        "dataset = dataset.shuffle(buffer_size=2000)\n",
        "train_size = int(0.7 * len(file_paths))\n",
        "train_dataset = dataset.take(train_size)\n",
        "val_dataset = dataset.skip(train_size)"
      ],
      "metadata": {
        "id": "phMR59ByrLy-"
      },
      "execution_count": 10,
      "outputs": []
    },
    {
      "cell_type": "markdown",
      "source": [
        "Batch the datasets"
      ],
      "metadata": {
        "id": "MjhdceherPDe"
      }
    },
    {
      "cell_type": "code",
      "source": [
        "train_dataset = train_dataset.batch(batch_size=32)\n",
        "val_dataset = val_dataset.batch(batch_size=32)"
      ],
      "metadata": {
        "id": "NE5jCCGjrQAX"
      },
      "execution_count": 11,
      "outputs": []
    },
    {
      "cell_type": "code",
      "source": [
        "base_model = tf.keras.applications.ResNet50(\n",
        "    include_top=False,\n",
        "    weights='imagenet',\n",
        "    input_shape=(224, 224, 3)\n",
        ")\n",
        "\n",
        "model = Sequential()\n",
        "model.add(base_model)\n",
        "\n",
        "# CONV LAYER ONE\n",
        "model.add(layers.Conv2D(filters=64, kernel_size=(3, 3), activation='relu', padding='same'))\n",
        "model.add(layers.BatchNormalization())\n",
        "\n",
        "# CONV LAYER TWO\n",
        "model.add(layers.Conv2D(filters=128, kernel_size=(3, 3), activation='relu', padding='same'))\n",
        "model.add(layers.BatchNormalization())\n",
        "\n",
        "# CONV LAYER THREE\n",
        "# model.add(layers.Conv2D(filters=256, kernel_size=(3, 3), activation='relu', padding='same'))\n",
        "# model.add(layers.BatchNormalization())\n",
        "\n",
        "# CONV LAYER FOUR\n",
        "# model.add(layers.Conv2D(filters=512, kernel_size=(3, 3), activation='relu', padding='same'))\n",
        "# model.add(layers.BatchNormalization())\n",
        "\n",
        "# GLOBAL POOLING LAYER\n",
        "model.add(layers.GlobalAveragePooling2D())\n",
        "\n",
        "# DENSE LAYER ONE\n",
        "model.add(layers.Dense(1024, activation='relu', kernel_regularizer=regularizers.l2(0.01)))\n",
        "model.add(layers.Dropout(0.5))\n",
        "\n",
        "# DENSE LAYER TWO\n",
        "# model.add(layers.Dense(512, activation='relu', kernel_regularizer=regularizers.l2(0.01)))\n",
        "# model.add(layers.Dropout(0.5))\n",
        "\n",
        "# FINAL LAYER\n",
        "model.add(layers.Dense(units=1, activation='linear'))\n"
      ],
      "metadata": {
        "colab": {
          "base_uri": "https://localhost:8080/"
        },
        "id": "kFRgG3SUrVBm",
        "outputId": "6d60b79f-b4a6-4bcc-9e97-3940f1468ca9"
      },
      "execution_count": 12,
      "outputs": [
        {
          "output_type": "stream",
          "name": "stdout",
          "text": [
            "Downloading data from https://storage.googleapis.com/tensorflow/keras-applications/resnet/resnet50_weights_tf_dim_ordering_tf_kernels_notop.h5\n",
            "\u001b[1m94765736/94765736\u001b[0m \u001b[32m━━━━━━━━━━━━━━━━━━━━\u001b[0m\u001b[37m\u001b[0m \u001b[1m5s\u001b[0m 0us/step\n"
          ]
        }
      ]
    },
    {
      "cell_type": "markdown",
      "source": [
        "Compile model"
      ],
      "metadata": {
        "id": "-QbMbWCprrH9"
      }
    },
    {
      "cell_type": "code",
      "source": [
        "model.compile(loss=losses.mae, optimizer=optimizers.RMSprop())"
      ],
      "metadata": {
        "id": "0WgZP4nMrtdI"
      },
      "execution_count": 13,
      "outputs": []
    },
    {
      "cell_type": "markdown",
      "source": [
        "Callbacks"
      ],
      "metadata": {
        "id": "oNggUBASr_3X"
      }
    },
    {
      "cell_type": "code",
      "source": [
        "early_stopping = callbacks.EarlyStopping(\n",
        "    monitor='val_loss',\n",
        "    patience=5,\n",
        "    restore_best_weights=True\n",
        ")\n",
        "\n",
        "model_checkpoint = callbacks.ModelCheckpoint(\n",
        "    'best_model.keras',  # Change the filename to end with '.keras'\n",
        "    monitor='val_loss',\n",
        "    save_best_only=True,\n",
        "    save_weights_only=False\n",
        ")"
      ],
      "metadata": {
        "id": "Ny98FRdRsBt3"
      },
      "execution_count": 14,
      "outputs": []
    },
    {
      "cell_type": "markdown",
      "source": [
        "Train model with callbacks"
      ],
      "metadata": {
        "id": "08j_KE_utz19"
      }
    },
    {
      "cell_type": "code",
      "source": [
        "history = model.fit(\n",
        "    train_dataset,\n",
        "    validation_data=val_dataset,\n",
        "    epochs=20,\n",
        "    batch_size=32,\n",
        "    callbacks=[early_stopping, model_checkpoint]\n",
        ")"
      ],
      "metadata": {
        "colab": {
          "base_uri": "https://localhost:8080/"
        },
        "id": "QNlHnFk3vzbu",
        "outputId": "79681bcb-6fb4-431d-b99c-6fab42e31db6"
      },
      "execution_count": 15,
      "outputs": [
        {
          "output_type": "stream",
          "name": "stdout",
          "text": [
            "Epoch 1/20\n",
            "\u001b[1m167/167\u001b[0m \u001b[32m━━━━━━━━━━━━━━━━━━━━\u001b[0m\u001b[37m\u001b[0m \u001b[1m164s\u001b[0m 628ms/step - loss: 2.6601 - val_loss: 10.2312\n",
            "Epoch 2/20\n",
            "\u001b[1m167/167\u001b[0m \u001b[32m━━━━━━━━━━━━━━━━━━━━\u001b[0m\u001b[37m\u001b[0m \u001b[1m78s\u001b[0m 442ms/step - loss: 1.0696 - val_loss: 2.4470\n",
            "Epoch 3/20\n",
            "\u001b[1m167/167\u001b[0m \u001b[32m━━━━━━━━━━━━━━━━━━━━\u001b[0m\u001b[37m\u001b[0m \u001b[1m84s\u001b[0m 449ms/step - loss: 0.8287 - val_loss: 0.9843\n",
            "Epoch 4/20\n",
            "\u001b[1m167/167\u001b[0m \u001b[32m━━━━━━━━━━━━━━━━━━━━\u001b[0m\u001b[37m\u001b[0m \u001b[1m76s\u001b[0m 420ms/step - loss: 0.7458 - val_loss: 1.3277\n",
            "Epoch 5/20\n",
            "\u001b[1m167/167\u001b[0m \u001b[32m━━━━━━━━━━━━━━━━━━━━\u001b[0m\u001b[37m\u001b[0m \u001b[1m91s\u001b[0m 474ms/step - loss: 0.7567 - val_loss: 0.7011\n",
            "Epoch 6/20\n",
            "\u001b[1m167/167\u001b[0m \u001b[32m━━━━━━━━━━━━━━━━━━━━\u001b[0m\u001b[37m\u001b[0m \u001b[1m132s\u001b[0m 416ms/step - loss: 0.7194 - val_loss: 12.8575\n",
            "Epoch 7/20\n",
            "\u001b[1m167/167\u001b[0m \u001b[32m━━━━━━━━━━━━━━━━━━━━\u001b[0m\u001b[37m\u001b[0m \u001b[1m89s\u001b[0m 499ms/step - loss: 0.7274 - val_loss: 0.7003\n",
            "Epoch 8/20\n",
            "\u001b[1m167/167\u001b[0m \u001b[32m━━━━━━━━━━━━━━━━━━━━\u001b[0m\u001b[37m\u001b[0m \u001b[1m143s\u001b[0m 515ms/step - loss: 0.7187 - val_loss: 493.5393\n",
            "Epoch 9/20\n",
            "\u001b[1m167/167\u001b[0m \u001b[32m━━━━━━━━━━━━━━━━━━━━\u001b[0m\u001b[37m\u001b[0m \u001b[1m90s\u001b[0m 516ms/step - loss: 0.6971 - val_loss: 4.1523\n",
            "Epoch 10/20\n",
            "\u001b[1m167/167\u001b[0m \u001b[32m━━━━━━━━━━━━━━━━━━━━\u001b[0m\u001b[37m\u001b[0m \u001b[1m85s\u001b[0m 483ms/step - loss: 0.7154 - val_loss: 0.6651\n",
            "Epoch 11/20\n",
            "\u001b[1m167/167\u001b[0m \u001b[32m━━━━━━━━━━━━━━━━━━━━\u001b[0m\u001b[37m\u001b[0m \u001b[1m132s\u001b[0m 416ms/step - loss: 0.7105 - val_loss: 2.3677\n",
            "Epoch 12/20\n",
            "\u001b[1m167/167\u001b[0m \u001b[32m━━━━━━━━━━━━━━━━━━━━\u001b[0m\u001b[37m\u001b[0m \u001b[1m80s\u001b[0m 409ms/step - loss: 0.7043 - val_loss: 0.6784\n",
            "Epoch 13/20\n",
            "\u001b[1m167/167\u001b[0m \u001b[32m━━━━━━━━━━━━━━━━━━━━\u001b[0m\u001b[37m\u001b[0m \u001b[1m85s\u001b[0m 418ms/step - loss: 0.7030 - val_loss: 0.7391\n",
            "Epoch 14/20\n",
            "\u001b[1m167/167\u001b[0m \u001b[32m━━━━━━━━━━━━━━━━━━━━\u001b[0m\u001b[37m\u001b[0m \u001b[1m98s\u001b[0m 520ms/step - loss: 0.6991 - val_loss: 0.6451\n",
            "Epoch 15/20\n",
            "\u001b[1m167/167\u001b[0m \u001b[32m━━━━━━━━━━━━━━━━━━━━\u001b[0m\u001b[37m\u001b[0m \u001b[1m141s\u001b[0m 515ms/step - loss: 0.6995 - val_loss: 0.6901\n",
            "Epoch 16/20\n",
            "\u001b[1m167/167\u001b[0m \u001b[32m━━━━━━━━━━━━━━━━━━━━\u001b[0m\u001b[37m\u001b[0m \u001b[1m125s\u001b[0m 413ms/step - loss: 0.6966 - val_loss: 0.7521\n",
            "Epoch 17/20\n",
            "\u001b[1m167/167\u001b[0m \u001b[32m━━━━━━━━━━━━━━━━━━━━\u001b[0m\u001b[37m\u001b[0m \u001b[1m75s\u001b[0m 416ms/step - loss: 0.7032 - val_loss: 0.6814\n",
            "Epoch 18/20\n",
            "\u001b[1m167/167\u001b[0m \u001b[32m━━━━━━━━━━━━━━━━━━━━\u001b[0m\u001b[37m\u001b[0m \u001b[1m91s\u001b[0m 519ms/step - loss: 0.7054 - val_loss: 0.6713\n",
            "Epoch 19/20\n",
            "\u001b[1m167/167\u001b[0m \u001b[32m━━━━━━━━━━━━━━━━━━━━\u001b[0m\u001b[37m\u001b[0m \u001b[1m78s\u001b[0m 433ms/step - loss: 0.6973 - val_loss: 0.6758\n"
          ]
        }
      ]
    },
    {
      "cell_type": "markdown",
      "source": [
        "Visualize training statistics"
      ],
      "metadata": {
        "id": "2mpIXede5t3B"
      }
    },
    {
      "cell_type": "code",
      "source": [
        "plt.figure(figsize=(12, 4))\n",
        "\n",
        "plt.subplot(1, 2, 1)\n",
        "plt.plot(history.history['loss'], label='Training Loss')\n",
        "plt.plot(history.history['val_loss'], label='Validation Loss')\n",
        "plt.title('Loss over Epochs')\n",
        "plt.xlabel('Epochs')\n",
        "plt.ylabel('Loss')\n",
        "plt.legend()\n",
        "\n",
        "if 'accuracy' in history.history:\n",
        "    plt.subplot(1, 2, 2)\n",
        "    plt.plot(history.history['accuracy'], label='Training Accuracy')\n",
        "    plt.plot(history.history['val_accuracy'], label='Validation Accuracy')\n",
        "    plt.title('Accuracy over Epochs')\n",
        "    plt.xlabel('Epochs')\n",
        "    plt.ylabel('Accuracy')\n",
        "    plt.legend()\n",
        "\n",
        "plt.show()"
      ],
      "metadata": {
        "collapsed": true,
        "id": "DU12QbJ_5wFE"
      },
      "execution_count": null,
      "outputs": []
    },
    {
      "cell_type": "markdown",
      "source": [
        "Evaluate the model on the validation dataset"
      ],
      "metadata": {
        "id": "MW0dEofO6okZ"
      }
    },
    {
      "cell_type": "code",
      "source": [
        "val_loss = model.evaluate(val_dataset)\n",
        "print(f'Validation Loss: {val_loss}')"
      ],
      "metadata": {
        "colab": {
          "base_uri": "https://localhost:8080/"
        },
        "id": "Ib_dMFm96rbc",
        "outputId": "cdd82379-7077-4723-fcc2-78d50e61b42f"
      },
      "execution_count": 22,
      "outputs": [
        {
          "output_type": "stream",
          "name": "stdout",
          "text": [
            "\u001b[1m72/72\u001b[0m \u001b[32m━━━━━━━━━━━━━━━━━━━━\u001b[0m\u001b[37m\u001b[0m \u001b[1m28s\u001b[0m 86ms/step - loss: 0.6564\n",
            "Validation Loss: 0.6596803665161133\n"
          ]
        }
      ]
    },
    {
      "cell_type": "markdown",
      "source": [
        "saving the model"
      ],
      "metadata": {
        "id": "3wNHbi2a-KeU"
      }
    },
    {
      "cell_type": "code",
      "source": [
        "model.save('model.h5')\n"
      ],
      "metadata": {
        "colab": {
          "base_uri": "https://localhost:8080/"
        },
        "id": "QxHyZoEe-MmM",
        "outputId": "aa6d43ed-5d17-4f48-c346-04838350409a"
      },
      "execution_count": 20,
      "outputs": [
        {
          "output_type": "stream",
          "name": "stderr",
          "text": [
            "WARNING:absl:You are saving your model as an HDF5 file via `model.save()` or `keras.saving.save_model(model)`. This file format is considered legacy. We recommend using instead the native Keras format, e.g. `model.save('my_model.keras')` or `keras.saving.save_model(model, 'my_model.keras')`. \n"
          ]
        }
      ]
    },
    {
      "cell_type": "markdown",
      "source": [
        "downloading the model"
      ],
      "metadata": {
        "id": "4rMxJ3WQ-chZ"
      }
    },
    {
      "cell_type": "code",
      "source": [
        "from google.colab import files\n",
        "files.download('model.h5')\n"
      ],
      "metadata": {
        "colab": {
          "base_uri": "https://localhost:8080/",
          "height": 17
        },
        "id": "xTLs3Jgs-qir",
        "outputId": "aedf6b94-9fb1-4865-8829-067572c05b89"
      },
      "execution_count": 21,
      "outputs": [
        {
          "output_type": "display_data",
          "data": {
            "text/plain": [
              "<IPython.core.display.Javascript object>"
            ],
            "application/javascript": [
              "\n",
              "    async function download(id, filename, size) {\n",
              "      if (!google.colab.kernel.accessAllowed) {\n",
              "        return;\n",
              "      }\n",
              "      const div = document.createElement('div');\n",
              "      const label = document.createElement('label');\n",
              "      label.textContent = `Downloading \"${filename}\": `;\n",
              "      div.appendChild(label);\n",
              "      const progress = document.createElement('progress');\n",
              "      progress.max = size;\n",
              "      div.appendChild(progress);\n",
              "      document.body.appendChild(div);\n",
              "\n",
              "      const buffers = [];\n",
              "      let downloaded = 0;\n",
              "\n",
              "      const channel = await google.colab.kernel.comms.open(id);\n",
              "      // Send a message to notify the kernel that we're ready.\n",
              "      channel.send({})\n",
              "\n",
              "      for await (const message of channel.messages) {\n",
              "        // Send a message to notify the kernel that we're ready.\n",
              "        channel.send({})\n",
              "        if (message.buffers) {\n",
              "          for (const buffer of message.buffers) {\n",
              "            buffers.push(buffer);\n",
              "            downloaded += buffer.byteLength;\n",
              "            progress.value = downloaded;\n",
              "          }\n",
              "        }\n",
              "      }\n",
              "      const blob = new Blob(buffers, {type: 'application/binary'});\n",
              "      const a = document.createElement('a');\n",
              "      a.href = window.URL.createObjectURL(blob);\n",
              "      a.download = filename;\n",
              "      div.appendChild(a);\n",
              "      a.click();\n",
              "      div.remove();\n",
              "    }\n",
              "  "
            ]
          },
          "metadata": {}
        },
        {
          "output_type": "display_data",
          "data": {
            "text/plain": [
              "<IPython.core.display.Javascript object>"
            ],
            "application/javascript": [
              "download(\"download_28f65eac-02d5-4d77-834e-efe2ebba0d81\", \"model.h5\", 200123816)"
            ]
          },
          "metadata": {}
        }
      ]
    }
  ]
}